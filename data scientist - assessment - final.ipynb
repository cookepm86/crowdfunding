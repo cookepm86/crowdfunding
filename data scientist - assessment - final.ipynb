{
 "cells": [
  {
   "cell_type": "markdown",
   "metadata": {},
   "source": [
    "The task is two-fold: firstly, we must compute trending market segments over a given time period and, secondly, we must compute a market index.\n",
    "\n",
    "One may skip directly to the 'The trending functions:' section for the results."
   ]
  },
  {
   "cell_type": "markdown",
   "metadata": {},
   "source": [
    "# Trending market segments"
   ]
  },
  {
   "cell_type": "markdown",
   "metadata": {},
   "source": [
    "In this section, we shall end up with __two__ functions which give the top trending market segments for a specified time period. Beforehand, we shall define some useful functions.\n",
    "\n",
    "To perform this task, it is useful to ask the following questions: \n",
    "\n",
    "* How to determine what a market segment is?\n",
    "* What does it mean for a market segment to trend?\n",
    "* How to determine the popularity of a market segment?\n",
    "\n",
    "Before answering these questions, we first load the JSON file (firstly changing to the appropriate directory, modify as appropriate):"
   ]
  },
  {
   "cell_type": "code",
   "execution_count": 2,
   "metadata": {
    "collapsed": false
   },
   "outputs": [
    {
     "name": "stdout",
     "output_type": "stream",
     "text": [
      "C:\\Users\\Michael\\Desktop\n"
     ]
    }
   ],
   "source": [
    "cd C:\\Users\\Michael\\Desktop"
   ]
  },
  {
   "cell_type": "code",
   "execution_count": 3,
   "metadata": {
    "collapsed": false
   },
   "outputs": [
    {
     "name": "stdout",
     "output_type": "stream",
     "text": [
      "(<class 'list'>, 130756)\n"
     ]
    }
   ],
   "source": [
    "import json\n",
    "\n",
    "#load the json file\n",
    "with open('projects.json') as file:\n",
    "    data = json.load(file)\n",
    "    \n",
    "#print type and length of the json file\n",
    "print((type(data), len(data)))"
   ]
  },
  {
   "cell_type": "markdown",
   "metadata": {},
   "source": [
    "We note that the data is of the form:"
   ]
  },
  {
   "cell_type": "code",
   "execution_count": 4,
   "metadata": {
    "collapsed": true
   },
   "outputs": [],
   "source": [
    "#{\n",
    "#\t\"url\": \"Link to the campaign on the platform website\",\n",
    "#\t\"platform_name\": \"Name of Platform\",\n",
    "#\t\"status\": \"Campaign status\",\n",
    "#\t\"concepts\": {\n",
    "#\t   \"title\": [\"The concepts within the title\"],\n",
    "#\t   \"subtitle\": [\"The concepts within the sub title\"],\n",
    "#\t   \"description\": [\"The concepts within the description\"],\n",
    "#\t   \"category\": [\"The concepts within the category\"]\n",
    "#\t },\n",
    "#\t \"start_time\": \"Project start date.\",\n",
    "#\t \"end_time\": \"Project end date. \",\n",
    "#\t \"goal_fx\": {\n",
    "#\t\t\"GBP\": \"Amount of money campaigning for, in GBP\"\n",
    "#\t },\n",
    "#\t \"raised_fx\": {\n",
    "#\t\t\"GBP\": \"Amount of money currently raised, in GBP\"\n",
    "#\t }\n",
    "#}\n",
    "\n",
    "#Where concepts are defined as a list of the following structures:\n",
    "\n",
    "#{\n",
    "#   \"start\": \"The position of the last character of what the concept represents in the corresponding text field (starts at 0)\",\n",
    "#   \"end\": \"The position of the last character of what the concept represents in the corresponding text field (starts at 0)\",\n",
    "#   \"concept\": \"The actual concept\"\n",
    "#}"
   ]
  },
  {
   "cell_type": "markdown",
   "metadata": {},
   "source": [
    "In particular, we have key words from the title of the campaign, the subtitles, the description and the category of the campaign.\n",
    "\n",
    "We now return to the first question in the earlier list."
   ]
  },
  {
   "cell_type": "markdown",
   "metadata": {},
   "source": [
    "## How to determine what a market segment is?"
   ]
  },
  {
   "cell_type": "markdown",
   "metadata": {},
   "source": [
    "__Assumption:__ All of the information about the market segment of a given campaign is contained in the 'category' of the campaign.\n",
    "\n",
    "We take this assumption such that we do not end up with overly specific market segments. We note that our code is easily modified to include the other 'concepts'.\n",
    "\n",
    "__Limitation of assumption:__ There is a risk that, in taking this assumption, we miss the finer details of market segments. "
   ]
  },
  {
   "cell_type": "markdown",
   "metadata": {},
   "source": [
    "__Assumption:__ For the case in which there are multiple concepts within 'category', we take the market segment of the campaign to be the union of the two concepts, rather than its intersection.\n",
    "\n",
    "This assumption is also taken such that we do not end up with overly specific market segments."
   ]
  },
  {
   "cell_type": "markdown",
   "metadata": {},
   "source": [
    "__Possible extension:__\n",
    "\n",
    "Finally, we should also take into account synonyms or related concepts. For example, one campaign may have belong to the 'movie' market segment, while another may belong to the 'film' market segment. Most likely, we would want to consider these as the same market segment. To achieve this grouping of equivalent/related market segments, one may consider an unsupervised learning clustering algorithm, such as non-negative matrix factorization. A first attempt at this is included in the appendix, though the results were not great and so this should be viewed as illustrating a possible approach, rather than providing results."
   ]
  },
  {
   "cell_type": "markdown",
   "metadata": {},
   "source": [
    "## What does it mean for a market segment to trend?"
   ]
  },
  {
   "cell_type": "markdown",
   "metadata": {},
   "source": [
    "__Assumption:__ There are three ways to determine whether a market segment is trending:\n",
    "\n",
    "* competitive benchmarking,\n",
    "* historical benchmarking,\n",
    "* a combination of the above two methods.\n",
    "\n",
    "_Competitive benchmarking_ is the comparison of the popularity of a market segment with other market segments, i.e. a market segment is trending if the market segment is more popular than other market segments.\n",
    "\n",
    "_Historical benchmarking_ is the comparison of the popularity of a market segment with its historical popularity. Segments are ranked according to their % change in popularity on the previous time period.\n",
    "\n",
    "We shall adopt a hybrid approach of the two as, individually, each approach has its failings."
   ]
  },
  {
   "cell_type": "markdown",
   "metadata": {},
   "source": [
    "__$\\chi^2$:__ One such hybrid approach is to use the $\\chi^2$ value. This approach goes as follows:\n",
    "\n",
    "* Suppose a market segment, $i$, has observed occurences $O_i$ in a given time period.\n",
    "* Furthermore suppose that this market segment has an expected value $E_i$, as computed over the preceding $N$ time periods of equal length to that being considered.\n",
    "* Then the $\\chi^2$ value of $i$, denoted by $\\chi^2_i$, is given by:\n",
    "\n",
    "$\\chi^2_i = (O_i - E_i)^2 \\left(\\frac{1}{E_i + m} + \\frac{1}{N}\\right)$\n",
    "\n",
    "where $m$ is a 'smoothing parameter', whose purpose is to ensure that segments with low expected values do not overly dominate the top trending segments.\n",
    "* We rank the market segments by their $\\chi^2$ values."
   ]
  },
  {
   "cell_type": "markdown",
   "metadata": {},
   "source": [
    "__z-score:__ Another such hybrid approach is to use a z-score based approach. This approach goes as follows:\n",
    "\n",
    "* Suppose a market segment, $i$, has observed occurences $O_i$ in a given time period.\n",
    "* Furthermore suppose that this market segment has an expected value $E_i$, as computed over the preceding time period of equal length to that being considered.\n",
    "* We compute the 'growth', $g_i$, of $i$ as:\n",
    "\n",
    "$g_i = 100(O_i - E_i)/(E_i + m)$\n",
    "\n",
    "where $m$ is a smoothing parameter, as in the $\\chi^2$ case.\n",
    "* We divide the data according to the values $E_i$. We denote the resulting division to which $i$ belongs as $J$. \n",
    "* Then the _growth_ z-score of the segment $i$ within $J$, denoted by $z_i^J$, is given by:\n",
    "\n",
    "$z_{i}^{J} = (g_i - g^J_{mean}) / g^J_{std}$\n",
    "\n",
    "where $g^J_{mean}$ and $g^J_{std}$ are the mean and standard deviation of the growth of the segments within the division $J$, respectively.\n",
    "\n",
    "* We perform a number of divisions, computing the growth z-scores of each market segment within each of division and average over these growth z-scores.\n",
    "* We rank the market segments by their average growth z-score value."
   ]
  },
  {
   "cell_type": "markdown",
   "metadata": {},
   "source": [
    "__Comparing the two approaches:__\n",
    "\n",
    "__$\\chi^2$:__ \n",
    "* Potentially more computationally intensive, if we wish to achieve large $N$.\n",
    "* Distinguishes noise from true trending by studying historical data for the segment.\n",
    "* Attempts to adjust for the possibility of occurences with very low previous values appearing artificially high in the rankings by squaring $(O_i - E_i)$ in the numerator.\n",
    "* The results will depend on the choice of smoothing parameter, which is not ideal.\n",
    "\n",
    "__z-score:__\n",
    "* Less computationally intensive - we only consider the present and immediately preceding time periods.\n",
    "* Distinguishes noise from true trending by studying market segments with similar numbers of previous occurences.\n",
    "* Attempts to adjust for the possibility of occurences with very low previous values appearing artificially high in the rankings by dividing the data multiple times and in different ways.\n",
    "* The results will depend on the choice of smoothing parameter as well as the choice of dividing the data, which is not ideal."
   ]
  },
  {
   "cell_type": "markdown",
   "metadata": {},
   "source": [
    "__In summary__, if we are not too worried about the speed of the process and we have sufficient data to achieve large $N$, then we probably should use the $\\chi^2$ approach. However, if speed is a priority or we have insufficient data to achieve large $N$, \n",
    "then we should probably consider the z-score approach."
   ]
  },
  {
   "cell_type": "code",
   "execution_count": 5,
   "metadata": {
    "collapsed": false
   },
   "outputs": [],
   "source": [
    "from datetime import datetime\n",
    "\n",
    "import pandas as pd\n",
    "import numpy as np\n",
    "\n",
    "import seaborn as sns\n",
    "import matplotlib.pyplot as plt\n",
    "\n",
    "#import timer\n",
    "from timeit import default_timer as timer"
   ]
  },
  {
   "cell_type": "markdown",
   "metadata": {},
   "source": [
    "We now define a dictionary, 'count_dict', which has concepts as keys, and the respective number of times these concepts occur in the campaigns' 'category' as the respective values (this excludes multiple occurences within a single campaign)."
   ]
  },
  {
   "cell_type": "code",
   "execution_count": 6,
   "metadata": {
    "collapsed": false
   },
   "outputs": [],
   "source": [
    "def count_unique(data, header_list, start_date, end_date):\n",
    "    \n",
    "    \"\"\"function which takes the data, a header list, as well as a start date and an end date \n",
    "    (non-inclusive), in the form 'yyyy-mm-dd' (of type string), with the start date before the \n",
    "    end date. outputs a dictionary with keys which are the 'category' entries in 'data' for the \n",
    "    given time period and with values which are the number of campaigns for which the key occurs \n",
    "    in campaigns.\"\"\"\n",
    "        \n",
    "    try:\n",
    "    \n",
    "        #we check that start_date and end_date are of the correct form and that\n",
    "        #start_date is before end_date\n",
    "        datetime.strptime(start_date, '%Y-%m-%d'), datetime.strptime(end_date, '%Y-%m-%d')\n",
    "        if start_date > end_date:\n",
    "            print('Error: start_date must be before end_date')\n",
    "        \n",
    "        else:\n",
    "            N = len(data)\n",
    "            count_dict = {}\n",
    "\n",
    "            for n in range(N):\n",
    "            \n",
    "                unique_list = []\n",
    "                #restrict to the desired time period, i.e. the start date of the campaign\n",
    "                #is before the end of the time period and the end date is after the start date\n",
    "                if (data[n]['start_time'] < end_date) and (data[n]['end_time'] >= start_date):\n",
    "                    #not all campaigns contain the key 'concepts'\n",
    "                    #so we filter these\n",
    "                    if 'concepts' in data[n].keys():\n",
    "                        #loop over the headers in header_list\n",
    "                        for header in header_list:\n",
    "                            #check that this appears in the subdictionary keys\n",
    "                            if header in data[n]['concepts'].keys():\n",
    "                                #loop over the items in the dictionary\n",
    "                                for item in data[n]['concepts'][header]:\n",
    "                                    #either add the concept to the dictionary as\n",
    "                                    #a key if it has not appeared before, or add\n",
    "                                    #to the keys count, i.e. to its value\n",
    "                                    if item['concept'] not in unique_list:\n",
    "                                        unique_list.append(item['concept'])\n",
    "                        for unique_item in unique_list:\n",
    "                            if unique_item not in count_dict.keys():\n",
    "                                count_dict[unique_item] = 1\n",
    "                            else:\n",
    "                                count_dict[unique_item] += 1\n",
    "                                \n",
    "            return count_dict\n",
    "    \n",
    "    #print an error message if there is a type error\n",
    "    except TypeError:\n",
    "        \n",
    "        print('Error: start_date and end_date must be strings of the form yyyy-mm-dd')"
   ]
  },
  {
   "cell_type": "markdown",
   "metadata": {},
   "source": [
    "We time this function for the full dataset, for the 'category' header, with the range of a month and time it."
   ]
  },
  {
   "cell_type": "code",
   "execution_count": 7,
   "metadata": {
    "collapsed": false
   },
   "outputs": [
    {
     "name": "stdout",
     "output_type": "stream",
     "text": [
      "0.08373347799631989\n"
     ]
    }
   ],
   "source": [
    "header_list = ['category']\n",
    "start_d, end_d = '2016-01-01', '2016-02-01'\n",
    "\n",
    "start = timer()\n",
    "count_unique(data, header_list, start_d, end_d)\n",
    "print(timer() - start)"
   ]
  },
  {
   "cell_type": "markdown",
   "metadata": {},
   "source": [
    "We now print the start and the end points of our data set. We also compare the number of campaigns with these respective start or finish dates with the median number of campaigns for any start or end date within the data (we drop campaigns without a 'concepts' key, which contains all the information about topics)."
   ]
  },
  {
   "cell_type": "code",
   "execution_count": 8,
   "metadata": {
    "collapsed": false
   },
   "outputs": [
    {
     "name": "stdout",
     "output_type": "stream",
     "text": [
      "The dataset start and finish dates are: 2015-01-01, 2016-12-31.\n",
      "The number of campaigns starting on the first day of our dataset are 77, while the median number of campaigns starting on a given start date within our dataset is 103.\n",
      "The number of campaigns ending on the last day of our dataset are 6, while the median number of campaigns ending on a given end date within our dataset is 122.\n"
     ]
    }
   ],
   "source": [
    "#generate a list of all the start and end dates of campaigns\n",
    "start_list, end_list = [], []\n",
    "for n in range(len(data)):\n",
    "    if 'concepts' in data[n].keys():\n",
    "        start_list.append(data[n]['start_time']), end_list.append(data[n]['end_time'])\n",
    "\n",
    "start_array, end_array = pd.Series(start_list), pd.Series(end_list)\n",
    "data_start, data_end = min(start_array), max(end_array)\n",
    "\n",
    "print('The dataset start and finish dates are: %s, %s.' % (data_start, data_end))\n",
    "\n",
    "print('The number of campaigns starting on the first day of our dataset are %s, '\n",
    "      'while the median number of campaigns starting on a given start date within our dataset is %s.'\n",
    "      % (len(start_array[start_array == min(start_array)]), int(start_array.value_counts().median())))\n",
    "\n",
    "print('The number of campaigns ending on the last day of our dataset are %s, '\n",
    "     'while the median number of campaigns ending on a given end date within our dataset is %s.'\n",
    "     % (len(end_array[end_array == max(end_array)]), int(end_array.value_counts().median())))"
   ]
  },
  {
   "cell_type": "markdown",
   "metadata": {},
   "source": [
    "There are large differences between the number of campaigns starting and finishing on the start and end dates of the datasets and the median. We will keep this in mind later."
   ]
  },
  {
   "cell_type": "markdown",
   "metadata": {},
   "source": [
    "We now define a function, chi_squared, which computes the $\\chi^2$ values for each market segment in a given time period."
   ]
  },
  {
   "cell_type": "code",
   "execution_count": 9,
   "metadata": {
    "collapsed": false
   },
   "outputs": [],
   "source": [
    "def chi_squared(data, header_list, start_date, end_date, smooth_param):\n",
    "    \n",
    "    \"\"\"function which takes the dataset, a header list, two dates and a smoothing parameter \n",
    "    as an input. returns a dataframe with market segments as indices. the columns are the \n",
    "    count of each market segment in the time period and its chi^2 value\"\"\"\n",
    "    \n",
    "    #define series of the start and end dates of each entry in the dataset\n",
    "    start_list, end_list = [], []\n",
    "    for n in range(len(data)):\n",
    "        start_list.append(data[n]['start_time']), end_list.append(data[n]['end_time'])\n",
    "    start_series, end_series = pd.Series(start_list), pd.Series(end_list)\n",
    "    \n",
    "    #store the min and max of the dates\n",
    "    data_start, data_end = min(start_array), max(end_array)\n",
    "    \n",
    "    #convert start_date and end_date to datetime objects\n",
    "    start_dtime = datetime.strptime(start_date, '%Y-%m-%d')\n",
    "    end_dtime = datetime.strptime(end_date, '%Y-%m-%d')\n",
    "    data_start_dtime = datetime.strptime(data_start, '%Y-%m-%d')\n",
    "    data_end_dtime = datetime.strptime(data_end, '%Y-%m-%d')\n",
    "    \n",
    "    #define the length of the time period being considered\n",
    "    time_diff = end_dtime - start_dtime\n",
    "    \n",
    "    #define and print the maximum number possible for N,\n",
    "    #i.e. the number of historical time periods\n",
    "    max_steps =  int((start_dtime - data_start_dtime) / time_diff)\n",
    "    print(\"N: %d\" % (max_steps))\n",
    "    \n",
    "    #stop if there is no historical data available\n",
    "    if max_steps <= 0:\n",
    "        print('No historical data available, with which to evaluate trending.')\n",
    "        return pd.DataFrame([])\n",
    "    \n",
    "    #define a list with all the start and end dates of the preceding N periods\n",
    "    date_list = []\n",
    "    for n in range(max_steps):\n",
    "        date_list.append((datetime.strftime(start_dtime - (n * time_diff), '%Y-%m-%d'),\n",
    "                         datetime.strftime(end_dtime - (n * time_diff), '%Y-%m-%d')))\n",
    "    \n",
    "    #define a dictionary with keys that are the entries of date_list\n",
    "    #and with values which are dataframes defined using the dictionary\n",
    "    #output of count_unique for each period\n",
    "    count_dict = {k:None for k in date_list}\n",
    "    for n in range(len(date_list)):\n",
    "        temp_dict = count_unique(data, header_list, date_list[n][0], date_list[n][1])\n",
    "        temp_df = pd.DataFrame.from_dict(temp_dict, orient='index')\n",
    "        count_dict[date_list[n]] = temp_df\n",
    "    \n",
    "    #label the columns by the time period\n",
    "    keys = [k for k in count_dict.keys()]\n",
    "    for k in keys:\n",
    "        count_dict[k].columns = [k]\n",
    "    \n",
    "    #concatenate all of the dataframes\n",
    "    temp_list = []\n",
    "    for k in count_dict.values():\n",
    "        temp_list.append(k)\n",
    "    hist_df = pd.concat(temp_list, axis=1).fillna(0)\n",
    "    #drop market segments without a count in the current period\n",
    "    hist_df = hist_df[hist_df.iloc[:, 0] != 0]\n",
    "    \n",
    "    #define the expected column\n",
    "    hist_df['expected'] = hist_df.iloc[:, 1:].apply(np.mean, axis=1)\n",
    "    #consider only segments whose current count is larger than the expected value\n",
    "    hist_df = hist_df[hist_df.iloc[:, 0] > hist_df.expected]\n",
    "    \n",
    "    #compute the chi^2 values (with smoothing parameter)\n",
    "    hist_df['chi_sq'] = ((hist_df.iloc[:, 0] - hist_df.expected) ** 2) * ((1 / (hist_df.expected + smooth_param)) + \n",
    "                                                                           (1  / (max_steps - 1)))\n",
    "    \n",
    "    #return the dataframe (keeping just current count, expected and chi_sq columns), \n",
    "    #sorted according to the chi_sq value\n",
    "    hist_df = hist_df.iloc[:, [0, -2, -1]].sort_values('chi_sq', ascending=False)\n",
    "\n",
    "    hist_df['rank'] = np.arange(1, hist_df.shape[0] + 1)\n",
    "    \n",
    "    hist_df.columns = ['count', 'expected', 'chi_sq', 'rank']\n",
    "    hist_df['count'] = hist_df['count'].astype(int)\n",
    "    \n",
    "    return hist_df"
   ]
  },
  {
   "cell_type": "code",
   "execution_count": 10,
   "metadata": {
    "collapsed": false
   },
   "outputs": [
    {
     "name": "stdout",
     "output_type": "stream",
     "text": [
      "N: 11\n",
      "2.7097913871763106\n"
     ]
    },
    {
     "data": {
      "text/html": [
       "<div>\n",
       "<table border=\"1\" class=\"dataframe\">\n",
       "  <thead>\n",
       "    <tr style=\"text-align: right;\">\n",
       "      <th></th>\n",
       "      <th>count</th>\n",
       "      <th>expected</th>\n",
       "      <th>chi_sq</th>\n",
       "      <th>rank</th>\n",
       "    </tr>\n",
       "  </thead>\n",
       "  <tbody>\n",
       "    <tr>\n",
       "      <th>glory</th>\n",
       "      <td>4</td>\n",
       "      <td>0.8</td>\n",
       "      <td>6.712889</td>\n",
       "      <td>1</td>\n",
       "    </tr>\n",
       "    <tr>\n",
       "      <th>translations</th>\n",
       "      <td>6</td>\n",
       "      <td>2.3</td>\n",
       "      <td>5.517485</td>\n",
       "      <td>2</td>\n",
       "    </tr>\n",
       "    <tr>\n",
       "      <th>force</th>\n",
       "      <td>3</td>\n",
       "      <td>0.5</td>\n",
       "      <td>4.791667</td>\n",
       "      <td>3</td>\n",
       "    </tr>\n",
       "    <tr>\n",
       "      <th>connect</th>\n",
       "      <td>3</td>\n",
       "      <td>0.5</td>\n",
       "      <td>4.791667</td>\n",
       "      <td>4</td>\n",
       "    </tr>\n",
       "    <tr>\n",
       "      <th>space gangstars</th>\n",
       "      <td>2</td>\n",
       "      <td>0.0</td>\n",
       "      <td>4.400000</td>\n",
       "      <td>5</td>\n",
       "    </tr>\n",
       "  </tbody>\n",
       "</table>\n",
       "</div>"
      ],
      "text/plain": [
       "                 count  expected    chi_sq  rank\n",
       "glory                4       0.8  6.712889     1\n",
       "translations         6       2.3  5.517485     2\n",
       "force                3       0.5  4.791667     3\n",
       "connect              3       0.5  4.791667     4\n",
       "space gangstars      2       0.0  4.400000     5"
      ]
     },
     "execution_count": 10,
     "metadata": {},
     "output_type": "execute_result"
    }
   ],
   "source": [
    "header_list = ['category', 'title']\n",
    "start_d, end_d = '2016-01-01', '2016-02-01'\n",
    "smooth_param = 1\n",
    "\n",
    "start = timer()\n",
    "df = chi_squared(data, header_list, start_d, end_d, smooth_param)\n",
    "end = timer()\n",
    "print(end - start)\n",
    "\n",
    "df.head()"
   ]
  },
  {
   "cell_type": "markdown",
   "metadata": {},
   "source": [
    "Presently, we define a function, growth, which takes a dataset (of the form described earlier) and two dates as input. It outputs a dataframe whose indices are the concepts. The columns of the dataframe are the popularity of the concepts within the given time period, the absolute popularity of the concepts in the immediately preceding period of the same length and the % change in absolute popularity of the concepts between the two periods."
   ]
  },
  {
   "cell_type": "code",
   "execution_count": 11,
   "metadata": {
    "collapsed": false
   },
   "outputs": [],
   "source": [
    "def growth(data, header_list, start_date, end_date, smooth_param):\n",
    "    \n",
    "    \"\"\"function which takes the data, as well as a start date and an end date (non-inclusive), \n",
    "    in the form 'yyyy-mm-dd', with the start date before the end date. outputs a dataframe\n",
    "    with the trending market segments, as described earlier.\"\"\"\n",
    "   \n",
    "    #convert start_date and end_date to datetime objects\n",
    "    start_dtime = datetime.strptime(start_date, '%Y-%m-%d')\n",
    "    end_dtime = datetime.strptime(end_date, '%Y-%m-%d')\n",
    "    #compute the length of the time interval to consider\n",
    "    time_diff = end_dtime - start_dtime\n",
    "    #define the previous time period to consider, of the same length as the current one\n",
    "    start_dtime_prev = start_dtime - time_diff\n",
    "    #convert to strings\n",
    "    start_date_prev, end_date_prev = datetime.strftime(start_dtime_prev, '%Y-%m-%d'), start_date\n",
    "\n",
    "    #print a warning message if any start or end dates fall outside of the dataset\n",
    "    if start_date_prev < data_start or end_date > data_end:\n",
    "        print('Some of the time period specified, and/or the preceding period, falls '\n",
    "              + 'outside the limits of the dataset: ' + str(data_start) + ', ' + str(data_end))\n",
    "        \n",
    "        return pd.DataFrame([])\n",
    "    \n",
    "    #compute the absolute popularity of segments for both time periods\n",
    "    data_list = [count_unique(data, header_list, start_date, end_date), \n",
    "                 count_unique(data, header_list, start_date_prev, end_date_prev)]\n",
    "        \n",
    "    df_list, name_list = [], ['current_', 'previous_']\n",
    "    for n in range(len(data_list)):\n",
    "        d = data_list[n] #convert to a dictionary\n",
    "        df = pd.DataFrame.from_dict(d, orient='index') #to dataframe\n",
    "        if len(df.columns) > 0:\n",
    "            df.columns = [name_list[n] + 'count'] #name the columns\n",
    "            df_list.append(df)\n",
    "        else:\n",
    "            df_list.append(pd.DataFrame(columns=[name_list[n] + 'count']))\n",
    "            \n",
    "    #concatenate the dataframes\n",
    "    combined_df = pd.concat(df_list, axis=1).reindex(df_list[0].index)\n",
    "    combined_df = combined_df.loc[combined_df.current_count.dropna().index]\n",
    "    combined_df.current_count = combined_df.current_count.astype(int)\n",
    "    combined_df.previous_count = combined_df.previous_count.astype(object)\n",
    "    \n",
    "    combined_df['growth'] = 100 * (combined_df.current_count - \n",
    "                                     combined_df.previous_count) / (combined_df.previous_count + smooth_param)\n",
    "    \n",
    "    #order according to  \n",
    "    combined_df = combined_df.sort_values('growth', ascending=False)\n",
    "    \n",
    "    #add a rank column\n",
    "    #combined_df['rank'] = np.arange(1, combined_df.shape[0] + 1)\n",
    "        \n",
    "    return combined_df"
   ]
  },
  {
   "cell_type": "code",
   "execution_count": 12,
   "metadata": {
    "collapsed": false
   },
   "outputs": [
    {
     "name": "stdout",
     "output_type": "stream",
     "text": [
      "0.19657402859537632\n"
     ]
    },
    {
     "data": {
      "text/html": [
       "<div>\n",
       "<table border=\"1\" class=\"dataframe\">\n",
       "  <thead>\n",
       "    <tr style=\"text-align: right;\">\n",
       "      <th></th>\n",
       "      <th>current_count</th>\n",
       "      <th>previous_count</th>\n",
       "      <th>growth</th>\n",
       "    </tr>\n",
       "  </thead>\n",
       "  <tbody>\n",
       "    <tr>\n",
       "      <th>translations</th>\n",
       "      <td>6</td>\n",
       "      <td>1</td>\n",
       "      <td>250</td>\n",
       "    </tr>\n",
       "    <tr>\n",
       "      <th>worlds</th>\n",
       "      <td>4</td>\n",
       "      <td>1</td>\n",
       "      <td>150</td>\n",
       "    </tr>\n",
       "    <tr>\n",
       "      <th>hope</th>\n",
       "      <td>4</td>\n",
       "      <td>1</td>\n",
       "      <td>150</td>\n",
       "    </tr>\n",
       "    <tr>\n",
       "      <th>food trucks</th>\n",
       "      <td>11</td>\n",
       "      <td>4</td>\n",
       "      <td>140</td>\n",
       "    </tr>\n",
       "    <tr>\n",
       "      <th>gaming hardware</th>\n",
       "      <td>6</td>\n",
       "      <td>2</td>\n",
       "      <td>133.333</td>\n",
       "    </tr>\n",
       "  </tbody>\n",
       "</table>\n",
       "</div>"
      ],
      "text/plain": [
       "                 current_count previous_count   growth\n",
       "translations                 6              1      250\n",
       "worlds                       4              1      150\n",
       "hope                         4              1      150\n",
       "food trucks                 11              4      140\n",
       "gaming hardware              6              2  133.333"
      ]
     },
     "execution_count": 12,
     "metadata": {},
     "output_type": "execute_result"
    }
   ],
   "source": [
    "header_list = ['category', 'title']\n",
    "start_d, end_d = '2016-01-01', '2016-02-01'\n",
    "smooth_param = 1\n",
    "\n",
    "start = timer()\n",
    "df = growth(data, header_list, start_d, end_d, smooth_param)\n",
    "end = timer()\n",
    "print(end - start)\n",
    "\n",
    "df.head()"
   ]
  },
  {
   "cell_type": "markdown",
   "metadata": {},
   "source": [
    "We now define a function which divides the data into diffent percentile intervals of the previous count. It then computes the zscores for the data in each percentile interval, before averaging over these z-scores for each concept.\n",
    "\n",
    "The purpose of this is illustrated above. We can see that all of the first 5 elements, ranked by '% change', have very low values of 'previous_count'. The weighting means that a concept will be ranked highly only if its % change is high relative to its peers."
   ]
  },
  {
   "cell_type": "code",
   "execution_count": 13,
   "metadata": {
    "collapsed": false
   },
   "outputs": [],
   "source": [
    "def zscore(data, header_list, start_date, end_date, smooth_param):\n",
    "    \n",
    "    #define a growth data frame, using growth\n",
    "    df = growth(data, header_list, start_date, end_date, smooth_param)\n",
    "    \n",
    "    if df.shape == (0, 0):\n",
    "        return pd.DataFrame([])\n",
    "    \n",
    "    #fill the null values with 0s\n",
    "    if df.shape[0] > 0:\n",
    "        df.previous_count = df.previous_count.fillna(0)\n",
    "    \n",
    "    #define a list which defines a number of divisions of our data\n",
    "    n_list = [100 / n for n in range(4, 21)]\n",
    "    new_list = []\n",
    "    for m in range(len(n_list)):\n",
    "        n = n_list[m]\n",
    "        length = len(np.linspace(n, 100, (100 - n) / n))\n",
    "        percentiles = np.percentile(df.previous_count, np.linspace(n, 100, (100 - n) / n))\n",
    "        if length - len(np.unique(percentiles)) == 0:\n",
    "            new_list.append(n_list[m])\n",
    "\n",
    "    name_list = []\n",
    "    for m in range(len(new_list)):\n",
    "        \n",
    "        #the percentiles which each division defines\n",
    "        dummy = new_list[m]\n",
    "        percentiles = np.percentile(df.previous_count, np.linspace(dummy, 100, (100 - dummy) / dummy))\n",
    "                    \n",
    "        #compute the zscores for each percentile\n",
    "        zscore_list, weighted_list = [], []    \n",
    "        for n in range(len(percentiles)):\n",
    "            if n == 0:\n",
    "                per = df['growth'][(df.previous_count <= percentiles[n])]\n",
    "            else:\n",
    "                per = df['growth'][(df.previous_count > percentiles[n-1]) & (df.previous_count <= percentiles[n])]\n",
    "            zscore = (per - per.mean()) / per.std()\n",
    "            zscore_list.append(zscore)\n",
    "        \n",
    "        #define a dataframe using zscore_list\n",
    "        zscore_col = pd.concat(zscore_list).sort_values(ascending=False)\n",
    "        #append this to the original dataframe\n",
    "        df['zscore' + str(m+1)] = zscore_col\n",
    "        #store the column names\n",
    "        name_list.append(m+1)\n",
    "    \n",
    "    #compute the mean zscore (with respect to the divisions)\n",
    "    df['zscore_mean'] = df.loc[:, 'zscore' + str(min(name_list)):'zscore' + str(max(name_list))].apply(np.mean, axis='columns')\n",
    "    \n",
    "    #drop the individual zscores\n",
    "    for n in name_list:\n",
    "        df = df.drop('zscore' + str(n), axis=1)\n",
    "    \n",
    "    df = df.sort_values('zscore_mean', ascending=False).drop(['growth'], axis=1)\n",
    "    df['rank'] = np.arange(1, df.shape[0] + 1)\n",
    "    \n",
    "    return df"
   ]
  },
  {
   "cell_type": "code",
   "execution_count": 14,
   "metadata": {
    "collapsed": false
   },
   "outputs": [
    {
     "name": "stdout",
     "output_type": "stream",
     "text": [
      "Some of the time period specified, and/or the preceding period, falls outside the limits of the dataset: 2015-01-01, 2016-12-31\n",
      "0.007075290731061834\n"
     ]
    },
    {
     "data": {
      "text/html": [
       "<div>\n",
       "<table border=\"1\" class=\"dataframe\">\n",
       "  <thead>\n",
       "    <tr style=\"text-align: right;\">\n",
       "      <th></th>\n",
       "    </tr>\n",
       "  </thead>\n",
       "  <tbody>\n",
       "  </tbody>\n",
       "</table>\n",
       "</div>"
      ],
      "text/plain": [
       "Empty DataFrame\n",
       "Columns: []\n",
       "Index: []"
      ]
     },
     "execution_count": 14,
     "metadata": {},
     "output_type": "execute_result"
    }
   ],
   "source": [
    "header_list = ['category', 'title']\n",
    "start_d, end_d = '2015-01-01', '2015-02-01'\n",
    "smooth_param = 1\n",
    "\n",
    "start = timer()\n",
    "df = zscore(data, header_list, start_d, end_d, smooth_param)\n",
    "end = timer()\n",
    "print(end - start)\n",
    "\n",
    "df.head()"
   ]
  },
  {
   "cell_type": "code",
   "execution_count": 15,
   "metadata": {
    "collapsed": true
   },
   "outputs": [],
   "source": [
    "def compare_zscore(data, header_list, start_date, end_date, smooth_param, no_top):\n",
    "    \n",
    "    #convert start_date and end_date to datetime objects\n",
    "    start_dtime = datetime.strptime(start_date, '%Y-%m-%d')\n",
    "    end_dtime = datetime.strptime(end_date, '%Y-%m-%d')\n",
    "    #compute the length of the time interval to consider\n",
    "    time_diff = end_dtime - start_dtime\n",
    "    #define the previous time period to consider, of the same length as the current one\n",
    "    start_dtime_prev = start_dtime - time_diff\n",
    "    #convert to strings\n",
    "    start_date_prev, end_date_prev = datetime.strftime(start_dtime_prev, '%Y-%m-%d'), start_date\n",
    "    \n",
    "    dataframes = [zscore(data, header_list, start_date, end_date, smooth_param), \n",
    "                  zscore(data, header_list, start_date_prev, end_date_prev, smooth_param)]\n",
    "    \n",
    "    combined_df = pd.merge(dataframes[0], dataframes[1], left_index=True, right_index=True, how = 'outer', suffixes=('_current', '_previous'))\n",
    "    \n",
    "    if combined_df.shape == (0, 0):\n",
    "        return pd.DataFrame([])\n",
    "    \n",
    "    combined_df = combined_df.loc[:, ['rank_current', 'current_count_current', 'rank_previous', 'current_count_previous']]\n",
    "    combined_df = combined_df.sort_values('rank_current')\n",
    "    \n",
    "    combined_df.rank_current = combined_df.rank_current.astype(object)\n",
    "    combined_df.rank_previous = combined_df.rank_previous.astype(object)\n",
    "    combined_df.current_count_current = combined_df.current_count_current.astype(object)\n",
    "    combined_df.current_count_previous = combined_df.current_count_previous.astype(object)\n",
    "    \n",
    "    combined_df = combined_df.iloc[:no_top]\n",
    "    combined_df.columns = ['rank_current', 'count_current', 'rank_previous', 'count_previous']\n",
    "    \n",
    "    combined_df = combined_df.iloc[:no_top]\n",
    "    \n",
    "    return combined_df"
   ]
  },
  {
   "cell_type": "code",
   "execution_count": 16,
   "metadata": {
    "collapsed": true
   },
   "outputs": [],
   "source": [
    "def compare_chi_sq(data, header_list, start_date, end_date, smooth_param, no_top):\n",
    "    \n",
    "    #convert start_date and end_date to datetime objects\n",
    "    start_dtime = datetime.strptime(start_date, '%Y-%m-%d')\n",
    "    end_dtime = datetime.strptime(end_date, '%Y-%m-%d')\n",
    "    #compute the length of the time interval to consider\n",
    "    time_diff = end_dtime - start_dtime\n",
    "    #define the previous time period to consider, of the same length as the current one\n",
    "    start_dtime_prev = start_dtime - time_diff\n",
    "    #convert to strings\n",
    "    start_date_prev, end_date_prev = datetime.strftime(start_dtime_prev, '%Y-%m-%d'), start_date\n",
    "    \n",
    "    dataframes = [chi_squared(data, header_list, start_date, end_date, smooth_param), \n",
    "                  chi_squared(data, header_list, start_date_prev, end_date_prev, smooth_param)]\n",
    "    \n",
    "    \n",
    "    combined_df = pd.merge(dataframes[0], dataframes[1], left_index=True, right_index=True, how = 'outer', suffixes=('_current', '_previous'))\n",
    "    \n",
    "    if combined_df.shape == (0, 0):\n",
    "        return pd.DataFrame([])\n",
    "    \n",
    "    combined_df = combined_df.loc[:, ['rank_current', 'count_current', 'rank_previous', 'count_previous']]\n",
    "    combined_df = combined_df.sort_values('rank_current')\n",
    "    \n",
    "    combined_df.current_count_current = combined_df.count_current.astype(object)\n",
    "    combined_df.current_count_previous = combined_df.count_previous.astype(object)\n",
    "    \n",
    "    combined_df.columns = ['rank_current', 'count_current', 'rank_previous', 'count_previous']\n",
    "    \n",
    "    combined_df.rank_current = combined_df.rank_current.astype(object)\n",
    "    combined_df.rank_previous = combined_df.rank_previous.astype(object)\n",
    "\n",
    "    combined_df = combined_df.iloc[:no_top]\n",
    "\n",
    "    return combined_df"
   ]
  },
  {
   "cell_type": "code",
   "execution_count": 17,
   "metadata": {
    "collapsed": false
   },
   "outputs": [
    {
     "name": "stdout",
     "output_type": "stream",
     "text": [
      "Some of the time period specified, and/or the preceding period, falls outside the limits of the dataset: 2015-01-01, 2016-12-31\n",
      "Some of the time period specified, and/or the preceding period, falls outside the limits of the dataset: 2015-01-01, 2016-12-31\n",
      "0.013625200683239136\n"
     ]
    },
    {
     "data": {
      "text/html": [
       "<div>\n",
       "<table border=\"1\" class=\"dataframe\">\n",
       "  <thead>\n",
       "    <tr style=\"text-align: right;\">\n",
       "      <th></th>\n",
       "    </tr>\n",
       "  </thead>\n",
       "  <tbody>\n",
       "  </tbody>\n",
       "</table>\n",
       "</div>"
      ],
      "text/plain": [
       "Empty DataFrame\n",
       "Columns: []\n",
       "Index: []"
      ]
     },
     "execution_count": 17,
     "metadata": {},
     "output_type": "execute_result"
    }
   ],
   "source": [
    "header_list = ['category']\n",
    "start_d, end_d = '2015-01-01', '2015-02-01'\n",
    "smooth_param = 1\n",
    "no_top = 5\n",
    "\n",
    "start = timer()\n",
    "df = compare_zscore(data, header_list, start_d, end_d, smooth_param, no_top)\n",
    "end = timer()\n",
    "print(end - start)\n",
    "\n",
    "df.head()"
   ]
  },
  {
   "cell_type": "code",
   "execution_count": 18,
   "metadata": {
    "collapsed": false
   },
   "outputs": [
    {
     "name": "stdout",
     "output_type": "stream",
     "text": [
      "N: 0\n",
      "No historical data available, with which to evaluate trending.\n",
      "N: -1\n",
      "No historical data available, with which to evaluate trending.\n",
      "0.32844118301089686\n"
     ]
    },
    {
     "data": {
      "text/html": [
       "<div>\n",
       "<table border=\"1\" class=\"dataframe\">\n",
       "  <thead>\n",
       "    <tr style=\"text-align: right;\">\n",
       "      <th></th>\n",
       "    </tr>\n",
       "  </thead>\n",
       "  <tbody>\n",
       "  </tbody>\n",
       "</table>\n",
       "</div>"
      ],
      "text/plain": [
       "Empty DataFrame\n",
       "Columns: []\n",
       "Index: []"
      ]
     },
     "execution_count": 18,
     "metadata": {},
     "output_type": "execute_result"
    }
   ],
   "source": [
    "header_list = ['category']\n",
    "start_d, end_d = '2015-01-01', '2015-02-01'\n",
    "smooth_param = 1\n",
    "no_top = 5\n",
    "\n",
    "start = timer()\n",
    "df = compare_chi_sq(data, header_list, start_d, end_d, smooth_param, no_top)\n",
    "end = timer()\n",
    "print(end - start)\n",
    "\n",
    "df.head()"
   ]
  },
  {
   "cell_type": "code",
   "execution_count": 19,
   "metadata": {
    "collapsed": false
   },
   "outputs": [
    {
     "name": "stdout",
     "output_type": "stream",
     "text": [
      "N: 3\n",
      "N: 2\n"
     ]
    },
    {
     "data": {
      "image/png": "[encoded data removed]",
      "text/plain": [
       "<matplotlib.figure.Figure at 0x21854f9cbe0>"
      ]
     },
     "metadata": {},
     "output_type": "display_data"
    }
   ],
   "source": [
    "sns.set_style()\n",
    "\n",
    "start_d, end_d = '2015-05-01', '2015-06-01'\n",
    "smooth_param = 10\n",
    "no_tops = 5\n",
    "df = compare_chi_sq(data, header_list, start_d, end_d, smooth_param, no_tops)\n",
    "\n",
    "# data to plot\n",
    "n_groups = no_tops\n",
    "current = df.count_current.values[::-1]\n",
    "previous = df.count_previous.values[::-1]\n",
    "\n",
    "ind_list = []\n",
    "for n in range(no_tops):\n",
    "    ind_list.append(str(int(df['rank_current'].iloc[4 - n])) + ': ' + df.index.values[4 - n])\n",
    " \n",
    "# create plot\n",
    "fig, ax = plt.subplots()\n",
    "index = np.arange(n_groups)\n",
    "bar_width = 0.35\n",
    " \n",
    "rects1 = plt.barh(index, previous, bar_width,\n",
    "                 color='b',\n",
    "                 label='Previous', alpha=0.5)\n",
    " \n",
    "rects2 = plt.barh(index + bar_width, current, bar_width,\n",
    "                 color='g',\n",
    "                 label='Current', alpha=0.5)\n",
    " \n",
    "plt.xlabel('Frequency')\n",
    "plt.ylabel('Concepts')\n",
    "plt.title('The top 5 trending concepts')\n",
    "plt.yticks(index + bar_width, ind_list)\n",
    "plt.legend(loc='best')\n",
    " \n",
    "plt.tight_layout()\n",
    "plt.show()"
   ]
  },
  {
   "cell_type": "code",
   "execution_count": 20,
   "metadata": {
    "collapsed": false
   },
   "outputs": [
    {
     "data": {
      "image/png": "[encoded data removed]",
      "text/plain": [
       "<matplotlib.figure.Figure at 0x21858519358>"
      ]
     },
     "metadata": {},
     "output_type": "display_data"
    }
   ],
   "source": [
    "sns.set_style()\n",
    "\n",
    "start_d, end_d = '2015-05-01', '2015-06-01'\n",
    "smooth_param = 10\n",
    "no_tops = 5\n",
    "df = compare_zscore(data, header_list, start_d, end_d, smooth_param, no_tops)\n",
    "\n",
    "# data to plot\n",
    "n_groups = no_tops\n",
    "current = df.count_current.values[::-1]\n",
    "previous = df.count_previous.values[::-1]\n",
    "\n",
    "ind_list = []\n",
    "for n in range(no_tops):\n",
    "    ind_list.append(str(int(df['rank_current'].iloc[4 - n])) + ': ' + df.index.values[4 - n])\n",
    " \n",
    "# create plot\n",
    "fig, ax = plt.subplots()\n",
    "index = np.arange(n_groups)\n",
    "bar_width = 0.35\n",
    " \n",
    "rects1 = plt.barh(index, previous, bar_width,\n",
    "                 color='b',\n",
    "                 label='Previous', alpha=0.5)\n",
    " \n",
    "rects2 = plt.barh(index + bar_width, current, bar_width,\n",
    "                 color='g',\n",
    "                 label='Current', alpha=0.5)\n",
    " \n",
    "plt.xlabel('Frequency')\n",
    "plt.ylabel('Concepts')\n",
    "plt.title('The top 5 trending concepts')\n",
    "plt.yticks(index + bar_width, ind_list)\n",
    "plt.legend(loc='best')\n",
    " \n",
    "plt.tight_layout()\n",
    "plt.show()"
   ]
  },
  {
   "cell_type": "markdown",
   "metadata": {},
   "source": [
    "# The trending functions:"
   ]
  },
  {
   "cell_type": "code",
   "execution_count": 21,
   "metadata": {
    "collapsed": false
   },
   "outputs": [
    {
     "name": "stdout",
     "output_type": "stream",
     "text": [
      "{'rank_current': {'sound': 1.0, 'software': 2.0, 'movie theaters': 3.0, 'hardware': 4.0, 'jazz': 5.0}, 'rank_previous': {'sound': 191.0, 'software': 129.0, 'movie theaters': 41.0, 'hardware': 110.0, 'jazz': 171.0}}\n"
     ]
    }
   ],
   "source": [
    "#choice of start and end dates\n",
    "start_d, end_d = '2015-05-01', '2015-06-01'\n",
    "#choice of smoothing parameter\n",
    "smooth_param = 10\n",
    "#number of top segments to display\n",
    "no_tops = 5\n",
    "\n",
    "df = compare_zscore(data, header_list, start_d, end_d, smooth_param, no_tops).loc[:, ['rank_current', 'rank_previous']]\n",
    "df = df.astype('float')\n",
    "d = df.to_dict()\n",
    "\n",
    "# Writing JSON data\n",
    "with open('data_zscore.json', 'w') as f:\n",
    "     json.dump(d, f)\n",
    "        \n",
    "with open('data_zscore.json', 'r') as f:\n",
    "     print(json.load(f))"
   ]
  },
  {
   "cell_type": "code",
   "execution_count": 22,
   "metadata": {
    "collapsed": false
   },
   "outputs": [
    {
     "name": "stdout",
     "output_type": "stream",
     "text": [
      "N: 3\n",
      "N: 2\n",
      "{'rank_current': {'software': 1.0, 'playing cards': 2.0, 'gadgets': 3.0, 'graphic novels': 4.0, 'sound': 5.0}, 'rank_previous': {'software': nan, 'playing cards': 56.0, 'gadgets': 5.0, 'graphic novels': 10.0, 'sound': nan}}\n"
     ]
    }
   ],
   "source": [
    "#choice of start and end dates\n",
    "start_d, end_d = '2015-05-01', '2015-06-01'\n",
    "#choice of smoothing parameter\n",
    "smooth_param = 10\n",
    "#number of top segments to display\n",
    "no_tops = 5\n",
    "\n",
    "df = compare_chi_sq(data, header_list, start_d, end_d, smooth_param, no_tops).loc[:, ['rank_current', 'rank_previous']]\n",
    "df = df.astype('float')\n",
    "d = df.to_dict()\n",
    "\n",
    "# Writing JSON data\n",
    "with open('data_zscore.json', 'w') as f:\n",
    "     json.dump(d, f)\n",
    "        \n",
    "with open('data_zscore.json', 'r') as f:\n",
    "     print(json.load(f))"
   ]
  },
  {
   "cell_type": "markdown",
   "metadata": {},
   "source": [
    "As discussed earlier, if we are not too worried about the speed of the process and we have sufficient data to achieve large $N$, then we probably should use the $\\chi^2$ approach. However, if speed is a priority or we have insufficient data to achieve large $N$, then we should probably consider the z-score approach.\n",
    "\n",
    "However, both models suffer from the limitation that they depend on a smoothing parameter. It would be good to remove this dependence."
   ]
  },
  {
   "cell_type": "markdown",
   "metadata": {},
   "source": [
    "# Appendix:"
   ]
  },
  {
   "cell_type": "markdown",
   "metadata": {},
   "source": [
    "In this appendix, I implement _non-negative matrix factorization_, to cluster campaigns, based on the concepts occurring in all of the 'concepts' keys. We shall see that the results obtained are not optimal, and therefore we only include this as an appendix."
   ]
  },
  {
   "cell_type": "markdown",
   "metadata": {},
   "source": [
    "We firstly convert all of the data to a dataframe:"
   ]
  },
  {
   "cell_type": "code",
   "execution_count": 23,
   "metadata": {
    "collapsed": false
   },
   "outputs": [
    {
     "name": "stdout",
     "output_type": "stream",
     "text": [
      "30.783707331138952\n"
     ]
    },
    {
     "data": {
      "text/html": [
       "<div>\n",
       "<table border=\"1\" class=\"dataframe\">\n",
       "  <thead>\n",
       "    <tr style=\"text-align: right;\">\n",
       "      <th></th>\n",
       "      <th>subtitle</th>\n",
       "      <th>category</th>\n",
       "      <th>description</th>\n",
       "      <th>start_time</th>\n",
       "      <th>end_time</th>\n",
       "    </tr>\n",
       "    <tr>\n",
       "      <th>title</th>\n",
       "      <th></th>\n",
       "      <th></th>\n",
       "      <th></th>\n",
       "      <th></th>\n",
       "      <th></th>\n",
       "    </tr>\n",
       "  </thead>\n",
       "  <tbody>\n",
       "    <tr>\n",
       "      <th>cafflano® klassic all-in-one coffee maker STAFF PICK</th>\n",
       "      <td>world, portable all-in-one coffee Maker, grind...</td>\n",
       "      <td>design, product design</td>\n",
       "      <td>world, portable all-in-one coffee Maker, grind...</td>\n",
       "      <td>2015-01-01</td>\n",
       "      <td>2015-01-17</td>\n",
       "    </tr>\n",
       "    <tr>\n",
       "      <th>battle game</th>\n",
       "      <td>video games</td>\n",
       "      <td>games, video games</td>\n",
       "      <td>battle, hetalia, game, battle, hetalia, fan-ma...</td>\n",
       "      <td>2015-01-01</td>\n",
       "      <td>2015-01-31</td>\n",
       "    </tr>\n",
       "    <tr>\n",
       "      <th>carbonclip carbon money clip</th>\n",
       "      <td>first carbon, money clip, cash, cards, large m...</td>\n",
       "      <td>design, product design</td>\n",
       "      <td>carbonclip, things, functionality, carbonclip,...</td>\n",
       "      <td>2015-01-01</td>\n",
       "      <td>2015-01-31</td>\n",
       "    </tr>\n",
       "    <tr>\n",
       "      <th>babygurl chocolates confections</th>\n",
       "      <td>small batch</td>\n",
       "      <td>food, small batch</td>\n",
       "      <td>business, upgraded kitchen, equipment, using h...</td>\n",
       "      <td>2015-01-01</td>\n",
       "      <td>2015-03-01</td>\n",
       "    </tr>\n",
       "    <tr>\n",
       "      <th>videos kid perspective</th>\n",
       "      <td>film, video</td>\n",
       "      <td>film, video</td>\n",
       "      <td>kids, fun, year, old kid</td>\n",
       "      <td>2015-01-01</td>\n",
       "      <td>2015-01-31</td>\n",
       "    </tr>\n",
       "  </tbody>\n",
       "</table>\n",
       "</div>"
      ],
      "text/plain": [
       "                                                                                             subtitle  \\\n",
       "title                                                                                                   \n",
       "cafflano® klassic all-in-one coffee maker STAFF...  world, portable all-in-one coffee Maker, grind...   \n",
       "battle game                                                                               video games   \n",
       "carbonclip carbon money clip                        first carbon, money clip, cash, cards, large m...   \n",
       "babygurl chocolates confections                                                           small batch   \n",
       "videos kid perspective                                                                    film, video   \n",
       "\n",
       "                                                                  category  \\\n",
       "title                                                                        \n",
       "cafflano® klassic all-in-one coffee maker STAFF...  design, product design   \n",
       "battle game                                             games, video games   \n",
       "carbonclip carbon money clip                        design, product design   \n",
       "babygurl chocolates confections                          food, small batch   \n",
       "videos kid perspective                                         film, video   \n",
       "\n",
       "                                                                                          description  \\\n",
       "title                                                                                                   \n",
       "cafflano® klassic all-in-one coffee maker STAFF...  world, portable all-in-one coffee Maker, grind...   \n",
       "battle game                                         battle, hetalia, game, battle, hetalia, fan-ma...   \n",
       "carbonclip carbon money clip                        carbonclip, things, functionality, carbonclip,...   \n",
       "babygurl chocolates confections                     business, upgraded kitchen, equipment, using h...   \n",
       "videos kid perspective                                                       kids, fun, year, old kid   \n",
       "\n",
       "                                                    start_time    end_time  \n",
       "title                                                                       \n",
       "cafflano® klassic all-in-one coffee maker STAFF...  2015-01-01  2015-01-17  \n",
       "battle game                                         2015-01-01  2015-01-31  \n",
       "carbonclip carbon money clip                        2015-01-01  2015-01-31  \n",
       "babygurl chocolates confections                     2015-01-01  2015-03-01  \n",
       "videos kid perspective                              2015-01-01  2015-01-31  "
      ]
     },
     "execution_count": 23,
     "metadata": {},
     "output_type": "execute_result"
    }
   ],
   "source": [
    "t0 = timer()\n",
    "\n",
    "max_ = len(data)\n",
    "\n",
    "header_list = ['title', 'subtitle', 'category', 'description']\n",
    "date_list = ['start_time', 'end_time']\n",
    "\n",
    "concept_dict = {k:[] for k in header_list + date_list}\n",
    "for n in range(max_):\n",
    "    #generate the start and end date values\n",
    "    for date in date_list:\n",
    "        if date in data[n].keys():\n",
    "            concept_dict[date].append(data[n][date])\n",
    "    \n",
    "    #generate the concept values\n",
    "    if 'concepts' in data[n].keys():\n",
    "        for header in header_list:\n",
    "            temp_list = []\n",
    "            if header in data[n]['concepts'].keys():\n",
    "                for entry in data[n]['concepts'][header]:\n",
    "                    temp_list.append(entry['concept'])\n",
    "                if header == 'title':\n",
    "                    temp_string = ' '.join(temp_list)\n",
    "                else:\n",
    "                    temp_string = ', '.join(temp_list)\n",
    "                concept_dict[header].append(temp_string)\n",
    "    else:\n",
    "        for header in header_list:\n",
    "            concept_dict[header].append('')\n",
    "            \n",
    "#format the dataframe and exclude campaigns without titles\n",
    "data_df = pd.DataFrame.from_dict(concept_dict, orient='index')\n",
    "data_df = data_df.transpose()\n",
    "data_df = data_df[data_df.title != '']\n",
    "data_df = data_df.set_index('title')\n",
    "\n",
    "print(timer() - t0)\n",
    "\n",
    "data_df.head()"
   ]
  },
  {
   "cell_type": "markdown",
   "metadata": {},
   "source": [
    "We define a function which filters the dataframe, according to start and end date."
   ]
  },
  {
   "cell_type": "code",
   "execution_count": 24,
   "metadata": {
    "collapsed": true
   },
   "outputs": [],
   "source": [
    "def filtered_data(start_date, end_date):\n",
    "    \n",
    "    start_con = data_df.start_time < end_date\n",
    "    end_con = data_df.end_time >= start_date\n",
    "    \n",
    "    return data_df[start_con & end_con]"
   ]
  },
  {
   "cell_type": "markdown",
   "metadata": {},
   "source": [
    "We combine the items in the subtitle and description columns. These give us more data with which to cluster."
   ]
  },
  {
   "cell_type": "code",
   "execution_count": 25,
   "metadata": {
    "collapsed": false
   },
   "outputs": [
    {
     "data": {
      "text/html": [
       "<div>\n",
       "<table border=\"1\" class=\"dataframe\">\n",
       "  <thead>\n",
       "    <tr style=\"text-align: right;\">\n",
       "      <th></th>\n",
       "      <th>category</th>\n",
       "      <th>start_time</th>\n",
       "      <th>end_time</th>\n",
       "      <th>description_combined</th>\n",
       "    </tr>\n",
       "    <tr>\n",
       "      <th>title</th>\n",
       "      <th></th>\n",
       "      <th></th>\n",
       "      <th></th>\n",
       "      <th></th>\n",
       "    </tr>\n",
       "  </thead>\n",
       "  <tbody>\n",
       "    <tr>\n",
       "      <th>cafflano® klassic all-in-one coffee maker STAFF PICK</th>\n",
       "      <td>design, product design</td>\n",
       "      <td>2015-01-01</td>\n",
       "      <td>2015-01-17</td>\n",
       "      <td>world, portable all-in-one coffee Maker, grind...</td>\n",
       "    </tr>\n",
       "    <tr>\n",
       "      <th>battle game</th>\n",
       "      <td>games, video games</td>\n",
       "      <td>2015-01-01</td>\n",
       "      <td>2015-01-31</td>\n",
       "      <td>video gamesbattle, hetalia, game, battle, heta...</td>\n",
       "    </tr>\n",
       "    <tr>\n",
       "      <th>carbonclip carbon money clip</th>\n",
       "      <td>design, product design</td>\n",
       "      <td>2015-01-01</td>\n",
       "      <td>2015-01-31</td>\n",
       "      <td>first carbon, money clip, cash, cards, large m...</td>\n",
       "    </tr>\n",
       "    <tr>\n",
       "      <th>babygurl chocolates confections</th>\n",
       "      <td>food, small batch</td>\n",
       "      <td>2015-01-01</td>\n",
       "      <td>2015-03-01</td>\n",
       "      <td>small batchbusiness, upgraded kitchen, equipme...</td>\n",
       "    </tr>\n",
       "    <tr>\n",
       "      <th>videos kid perspective</th>\n",
       "      <td>film, video</td>\n",
       "      <td>2015-01-01</td>\n",
       "      <td>2015-01-31</td>\n",
       "      <td>film, videokids, fun, year, old kid</td>\n",
       "    </tr>\n",
       "  </tbody>\n",
       "</table>\n",
       "</div>"
      ],
      "text/plain": [
       "                                                                  category  \\\n",
       "title                                                                        \n",
       "cafflano® klassic all-in-one coffee maker STAFF...  design, product design   \n",
       "battle game                                             games, video games   \n",
       "carbonclip carbon money clip                        design, product design   \n",
       "babygurl chocolates confections                          food, small batch   \n",
       "videos kid perspective                                         film, video   \n",
       "\n",
       "                                                    start_time    end_time  \\\n",
       "title                                                                        \n",
       "cafflano® klassic all-in-one coffee maker STAFF...  2015-01-01  2015-01-17   \n",
       "battle game                                         2015-01-01  2015-01-31   \n",
       "carbonclip carbon money clip                        2015-01-01  2015-01-31   \n",
       "babygurl chocolates confections                     2015-01-01  2015-03-01   \n",
       "videos kid perspective                              2015-01-01  2015-01-31   \n",
       "\n",
       "                                                                                 description_combined  \n",
       "title                                                                                                  \n",
       "cafflano® klassic all-in-one coffee maker STAFF...  world, portable all-in-one coffee Maker, grind...  \n",
       "battle game                                         video gamesbattle, hetalia, game, battle, heta...  \n",
       "carbonclip carbon money clip                        first carbon, money clip, cash, cards, large m...  \n",
       "babygurl chocolates confections                     small batchbusiness, upgraded kitchen, equipme...  \n",
       "videos kid perspective                                            film, videokids, fun, year, old kid  "
      ]
     },
     "execution_count": 25,
     "metadata": {},
     "output_type": "execute_result"
    }
   ],
   "source": [
    "data_df['description_combined'] = data_df.subtitle + data_df.description\n",
    "data_df = data_df.drop(['subtitle', 'description'], axis=1)\n",
    "data_df[np.invert(data_df.description_combined.isnull())]\n",
    "\n",
    "data_df.head()"
   ]
  },
  {
   "cell_type": "code",
   "execution_count": 33,
   "metadata": {
    "collapsed": false
   },
   "outputs": [
    {
     "name": "stdout",
     "output_type": "stream",
     "text": [
      "title\n",
      "Bed time story child book                 1.000000\n",
      "love peanut butter photo book             0.857107\n",
      "blue mariposa billingual children book    0.721890\n",
      "fangs kiteboard fins                      0.712049\n",
      "believers network                         0.697734\n",
      "dtype: float64\n"
     ]
    }
   ],
   "source": [
    "import sklearn.feature_extraction.text as text\n",
    "from sklearn.decomposition import NMF\n",
    "from sklearn.preprocessing import normalize\n",
    "\n",
    "#pick the minimum number of occurences for which to count a word\n",
    "min_ = 2\n",
    "#define the number of topics\n",
    "n_comps = 50\n",
    "#define the start and end dates\n",
    "start_d, end_d = '2016-02-01', '2016-04-01'\n",
    "\n",
    "#filter the data\n",
    "fil_df = filtered_data(start_d, end_d)\n",
    "\n",
    "#initialize the vectorizer\n",
    "vectorizer = text.CountVectorizer(min_df=min_)\n",
    "#fit the vectorizer\n",
    "X = vectorizer.fit_transform(fil_df.description_combined)\n",
    "\n",
    "#initialize the nmf model\n",
    "model = NMF(n_components=n_comps)\n",
    "#fit it to the vectorized data\n",
    "nmf = model.fit(X)\n",
    "\n",
    "#obtain the features\n",
    "nmf_features = model.transform(X)\n",
    "features_df = pd.DataFrame(nmf_features, index=fil_df.index)\n",
    "norm_features = normalize(nmf_features)\n",
    "sim_df = pd.DataFrame(norm_features, index=features_df.index)\n",
    "\n",
    "#check the similarities for a sample article\n",
    "article = sim_df.iloc[0]\n",
    "similarities = sim_df.dot(article)\n",
    "\n",
    "print(similarities.nlargest())"
   ]
  },
  {
   "cell_type": "markdown",
   "metadata": {},
   "source": [
    "This looks okay, but not particuarly good at clustering the topics.\n",
    "\n",
    "We define a function which displays the top words in a topic."
   ]
  },
  {
   "cell_type": "code",
   "execution_count": 49,
   "metadata": {
    "collapsed": false
   },
   "outputs": [],
   "source": [
    "def display_topic(model, feature_names, no_top_words, topic_number):\n",
    "    print(\"Topic %d:\" % (topic_number))\n",
    "    print(\" \".join([feature_names[i]\n",
    "                        for i in model.components_[topic_number].argsort()[:-no_top_words - 1:-1]]))"
   ]
  },
  {
   "cell_type": "markdown",
   "metadata": {},
   "source": [
    "We now check the top words in the top topic of the campaign considered above:"
   ]
  },
  {
   "cell_type": "code",
   "execution_count": 48,
   "metadata": {
    "collapsed": false
   },
   "outputs": [
    {
     "name": "stdout",
     "output_type": "stream",
     "text": [
      "Topic 5:\n",
      "book children coloring photo illustrations\n"
     ]
    }
   ],
   "source": [
    "ind = sim_df.iloc[0,:][sim_df.iloc[0,:] == max(sim_df.iloc[0,:])].index.values[0]\n",
    "\n",
    "display_topic(nmf, vectorizer.get_feature_names(), 5, ind)"
   ]
  },
  {
   "cell_type": "markdown",
   "metadata": {},
   "source": [
    "It may be seen by looking at the similarities of other campaigns, that this clustering is still not particularly accurate. __Possible extensions__ would be to play around more with the parameters of the clustering model, or to also try LDA clustering, or hash functions."
   ]
  }
 ],
 "metadata": {
  "kernelspec": {
   "display_name": "Python 3",
   "language": "python",
   "name": "python3"
  },
  "language_info": {
   "codemirror_mode": {
    "name": "ipython",
    "version": 3
   },
   "file_extension": ".py",
   "mimetype": "text/x-python",
   "name": "python",
   "nbconvert_exporter": "python",
   "pygments_lexer": "ipython3",
   "version": "3.6.0"
  }
 },
 "nbformat": 4,
 "nbformat_minor": 2
}
